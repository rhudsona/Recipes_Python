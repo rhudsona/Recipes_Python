{
 "cells": [
  {
   "cell_type": "code",
   "execution_count": 4,
   "id": "0e9c39e4-a9dd-4598-9831-c44e1bba139f",
   "metadata": {},
   "outputs": [],
   "source": [
    "import numpy as np\n",
    "import pandas as pd\n",
    "import matplotlib.pyplot as plt\n",
    "import statsmodels as sm\n",
    "pd.options.display.max_columns=20\n",
    "pd.options.display.max_rows=20\n",
    "pd.options.display.max_colwidth=80\n",
    "np.set_printoptions(precision=4,suppress=True)"
   ]
  },
  {
   "cell_type": "code",
   "execution_count": null,
   "id": "df3cd536-bc94-4315-be9a-57de87207b41",
   "metadata": {},
   "outputs": [],
   "source": [
    "######################################################### Armazenamento e carregamento dos arrays"
   ]
  },
  {
   "cell_type": "code",
   "execution_count": 213,
   "id": "977f8509-aa6e-4173-9652-0487a8f66a43",
   "metadata": {},
   "outputs": [
    {
     "name": "stdout",
     "output_type": "stream",
     "text": [
      "1.26.4\n"
     ]
    }
   ],
   "source": [
    "print(np.__version__)"
   ]
  },
  {
   "cell_type": "code",
   "execution_count": 34,
   "id": "2dbabc95-5f83-4246-ba30-fb6ce447f649",
   "metadata": {},
   "outputs": [],
   "source": [
    "#  Armazenamento e carregamento de dados \n",
    "\n",
    "objeto1=np.arange(10)   # Criação de um array vetorial com uma sequencia de 0 até 9\n",
    "objeto2=np.arange(20)   # Criação de uma array vetorial com uma sequencia de 0 até 19\n",
    "\n",
    "np.save(\"nome_do_arquivo.npy\", objeto1)   # Salval um único arquivo\n"
   ]
  },
  {
   "cell_type": "code",
   "execution_count": 37,
   "id": "93c06bde-3fe9-4d0a-84fc-e057ac6b3c38",
   "metadata": {},
   "outputs": [],
   "source": [
    "np.save(\"arquivo_mais_objetos.npy\", objeto1, objeto2)  # Salvando mais de um objeto por arquivo"
   ]
  },
  {
   "cell_type": "code",
   "execution_count": 39,
   "id": "0ea9fbcd-a6a7-40b6-b568-e2df36e9152d",
   "metadata": {},
   "outputs": [],
   "source": [
    "np.savez_compressed(\"arq_compactado.npz\",objeto1)  # Salvando os arquivos compactados"
   ]
  },
  {
   "cell_type": "code",
   "execution_count": 40,
   "id": "d3e0dea4-50bc-4654-abe1-9df41a8a0cdf",
   "metadata": {},
   "outputs": [
    {
     "data": {
      "text/plain": [
       "NpzFile 'arq_compactado.npz' with keys: arr_0"
      ]
     },
     "execution_count": 40,
     "metadata": {},
     "output_type": "execute_result"
    }
   ],
   "source": [
    "# Carregamento dos dados numpy\n",
    "\n",
    "np.load(\"arq_compactado.npz\",arr1)"
   ]
  },
  {
   "cell_type": "code",
   "execution_count": 41,
   "id": "08d50935-773f-4f3b-be57-efb73fb5e13f",
   "metadata": {},
   "outputs": [
    {
     "data": {
      "text/plain": [
       "array([6. , 7.5, 8. , 0. , 1. ])"
      ]
     },
     "execution_count": 41,
     "metadata": {},
     "output_type": "execute_result"
    }
   ],
   "source": [
    "arr1\n",
    "\n"
   ]
  },
  {
   "cell_type": "code",
   "execution_count": 216,
   "id": "b67f662c-2839-4e01-9d9a-a07b06b17b6f",
   "metadata": {},
   "outputs": [
    {
     "name": "stdout",
     "output_type": "stream",
     "text": [
      "2\n",
      "(2, 3)\n"
     ]
    }
   ],
   "source": [
    "####################################################### Parametros de um array\n",
    "\n",
    "print(arr.ndim)\n",
    "print(arr.shape)"
   ]
  },
  {
   "cell_type": "code",
   "execution_count": null,
   "id": "5d81a590-a5b3-46d9-8ff6-7dc11de73463",
   "metadata": {},
   "outputs": [],
   "source": [
    "#######################################################  Criação dos arrays"
   ]
  },
  {
   "cell_type": "code",
   "execution_count": 45,
   "id": "796c3748-d452-4618-a722-e4fb11c990b4",
   "metadata": {},
   "outputs": [],
   "source": [
    "# Criação de um array de zeros\n",
    "mat_zeros = np.zeros((5,5))"
   ]
  },
  {
   "cell_type": "code",
   "execution_count": 47,
   "id": "a1047138-ea27-4e83-a5c9-deeb78787053",
   "metadata": {},
   "outputs": [],
   "source": [
    "# Criação de um array de uns\n",
    "mat_uns = np.ones((7,7))"
   ]
  },
  {
   "cell_type": "code",
   "execution_count": 48,
   "id": "7f12ff85-9fe8-4c56-970c-848be424a0dc",
   "metadata": {},
   "outputs": [
    {
     "data": {
      "text/plain": [
       "array([[1., 1., 1., 1., 1., 1., 1.],\n",
       "       [1., 1., 1., 1., 1., 1., 1.],\n",
       "       [1., 1., 1., 1., 1., 1., 1.],\n",
       "       [1., 1., 1., 1., 1., 1., 1.],\n",
       "       [1., 1., 1., 1., 1., 1., 1.],\n",
       "       [1., 1., 1., 1., 1., 1., 1.],\n",
       "       [1., 1., 1., 1., 1., 1., 1.]])"
      ]
     },
     "execution_count": 48,
     "metadata": {},
     "output_type": "execute_result"
    }
   ],
   "source": [
    "# Funcionamento do like no ones e zeros\n",
    "\n",
    "np.ones_like(mat_uns) # Criou um matriz de zeros de mesma dimensão que a matriz de zeros que foi passada como parâmetros"
   ]
  },
  {
   "cell_type": "code",
   "execution_count": 49,
   "id": "31e68b8f-b288-4b70-8dd2-25b8d209ef70",
   "metadata": {},
   "outputs": [
    {
     "data": {
      "text/plain": [
       "array([[0., 0., 0., 0., 0.],\n",
       "       [0., 0., 0., 0., 0.],\n",
       "       [0., 0., 0., 0., 0.],\n",
       "       [0., 0., 0., 0., 0.],\n",
       "       [0., 0., 0., 0., 0.]])"
      ]
     },
     "execution_count": 49,
     "metadata": {},
     "output_type": "execute_result"
    }
   ],
   "source": [
    "np.zeros_like(mat_zeros) # Criou um matriz de zeros de mesma dimensão que a matriz de zeros que foi passada como parâmetros"
   ]
  },
  {
   "cell_type": "code",
   "execution_count": 51,
   "id": "74061eda-bcd5-446b-8103-0dade9409816",
   "metadata": {},
   "outputs": [
    {
     "data": {
      "text/plain": [
       "array([[0., 0., 0., 0., 0.],\n",
       "       [0., 0., 0., 0., 0.],\n",
       "       [0., 0., 0., 0., 0.],\n",
       "       [0., 0., 0., 0., 0.],\n",
       "       [0., 0., 0., 0., 0.]])"
      ]
     },
     "execution_count": 51,
     "metadata": {},
     "output_type": "execute_result"
    }
   ],
   "source": [
    "# Criação de espaço na memórioa sem preenchimento com os valors\n",
    "\n",
    "np.empty_like(mat_zeros)  # Criação da matriz com dimensões iguais a mat_zeros, mas sem passagem de parâmetro"
   ]
  },
  {
   "cell_type": "code",
   "execution_count": 55,
   "id": "dc110145-f4ca-43a5-9b68-556ac3abcc1c",
   "metadata": {},
   "outputs": [
    {
     "data": {
      "text/plain": [
       "array([[0., 0., 0.],\n",
       "       [0., 0., 0.],\n",
       "       [0., 0., 0.]])"
      ]
     },
     "execution_count": 55,
     "metadata": {},
     "output_type": "execute_result"
    }
   ],
   "source": [
    "np.empty((3,3))   # Alocação de espaço em memória para matriz (3,3) (Não preenche com valor)"
   ]
  },
  {
   "cell_type": "code",
   "execution_count": 56,
   "id": "384e2ace-01b8-4eca-aa01-a24f1a762ccf",
   "metadata": {},
   "outputs": [
    {
     "data": {
      "text/plain": [
       "array([[1., 0., 0., 0., 0., 0., 0., 0., 0., 0.],\n",
       "       [0., 1., 0., 0., 0., 0., 0., 0., 0., 0.],\n",
       "       [0., 0., 1., 0., 0., 0., 0., 0., 0., 0.],\n",
       "       [0., 0., 0., 1., 0., 0., 0., 0., 0., 0.],\n",
       "       [0., 0., 0., 0., 1., 0., 0., 0., 0., 0.],\n",
       "       [0., 0., 0., 0., 0., 1., 0., 0., 0., 0.],\n",
       "       [0., 0., 0., 0., 0., 0., 1., 0., 0., 0.],\n",
       "       [0., 0., 0., 0., 0., 0., 0., 1., 0., 0.],\n",
       "       [0., 0., 0., 0., 0., 0., 0., 0., 1., 0.],\n",
       "       [0., 0., 0., 0., 0., 0., 0., 0., 0., 1.]])"
      ]
     },
     "execution_count": 56,
     "metadata": {},
     "output_type": "execute_result"
    }
   ],
   "source": [
    "# Criação de uma matriz identidade\n",
    "np.eye(10)"
   ]
  },
  {
   "cell_type": "code",
   "execution_count": 57,
   "id": "a05de3dc-f4c5-42b1-802e-2b08d1a959e7",
   "metadata": {},
   "outputs": [
    {
     "data": {
      "text/plain": [
       "array([[1., 0., 0., 0., 0., 0., 0., 0.],\n",
       "       [0., 1., 0., 0., 0., 0., 0., 0.],\n",
       "       [0., 0., 1., 0., 0., 0., 0., 0.],\n",
       "       [0., 0., 0., 1., 0., 0., 0., 0.],\n",
       "       [0., 0., 0., 0., 1., 0., 0., 0.],\n",
       "       [0., 0., 0., 0., 0., 1., 0., 0.],\n",
       "       [0., 0., 0., 0., 0., 0., 1., 0.],\n",
       "       [0., 0., 0., 0., 0., 0., 0., 1.]])"
      ]
     },
     "execution_count": 57,
     "metadata": {},
     "output_type": "execute_result"
    }
   ],
   "source": [
    "np.identity(8)    # Criação de uma matriz identidade de tamanho 8"
   ]
  },
  {
   "cell_type": "code",
   "execution_count": 15,
   "id": "df6ec2bb-20d8-4cee-8317-50a1e24f5422",
   "metadata": {},
   "outputs": [
    {
     "data": {
      "text/plain": [
       "array([6. , 7.5, 8. , 0. , 1. ])"
      ]
     },
     "execution_count": 15,
     "metadata": {},
     "output_type": "execute_result"
    }
   ],
   "source": [
    "arr1"
   ]
  },
  {
   "cell_type": "code",
   "execution_count": 62,
   "id": "2bd7f724-5602-4b5f-836a-f3954d0ca8de",
   "metadata": {},
   "outputs": [
    {
     "data": {
      "text/plain": [
       "array([[nan, nan, nan, nan, nan, nan, nan],\n",
       "       [nan, nan, nan, nan, nan, nan, nan],\n",
       "       [nan, nan, nan, nan, nan, nan, nan],\n",
       "       [nan, nan, nan, nan, nan, nan, nan],\n",
       "       [nan, nan, nan, nan, nan, nan, nan],\n",
       "       [nan, nan, nan, nan, nan, nan, nan],\n",
       "       [nan, nan, nan, nan, nan, nan, nan]])"
      ]
     },
     "execution_count": 62,
     "metadata": {},
     "output_type": "execute_result"
    }
   ],
   "source": [
    "# Criação de uma matriz com um tipo específico herdando a dimensão de outro array\n",
    "np.full_like(mat_uns,np.NaN)"
   ]
  },
  {
   "cell_type": "code",
   "execution_count": 65,
   "id": "89343d1d-6ca9-465d-b8af-0a4237627eb9",
   "metadata": {},
   "outputs": [
    {
     "data": {
      "text/plain": [
       "array([[inf, inf, inf, inf],\n",
       "       [inf, inf, inf, inf],\n",
       "       [inf, inf, inf, inf],\n",
       "       [inf, inf, inf, inf]])"
      ]
     },
     "execution_count": 65,
     "metadata": {},
     "output_type": "execute_result"
    }
   ],
   "source": [
    "# Criação de um array com tamanho e tipo especifico\n",
    "np.full((4,4),np.inf)"
   ]
  },
  {
   "cell_type": "code",
   "execution_count": 220,
   "id": "93a60464-e882-4e20-9d80-0957f464d360",
   "metadata": {},
   "outputs": [
    {
     "name": "stdout",
     "output_type": "stream",
     "text": [
      "[1 2 3]\n",
      "1\n",
      "2\n",
      "3\n",
      "[4 5 6]\n",
      "4\n",
      "5\n",
      "6\n"
     ]
    }
   ],
   "source": [
    "arr = np.array([[1, 2, 3], [4, 5, 6]])\n",
    "\n",
    "for x in arr:\n",
    "  print(x)\n",
    "  for y in x:\n",
    "    print(y)"
   ]
  },
  {
   "cell_type": "code",
   "execution_count": 67,
   "id": "a2d27774-e945-4c02-ab64-1e86f2def2d9",
   "metadata": {},
   "outputs": [],
   "source": [
    "##########################################################  Casting e definição de tipo de dados do array\n",
    "\n",
    "arr=np.array(range(10)) # Criando um array p/ servir de exemplo"
   ]
  },
  {
   "cell_type": "code",
   "execution_count": 69,
   "id": "5b66b553-dacf-4c90-9a27-6dd145ecc2c1",
   "metadata": {},
   "outputs": [
    {
     "data": {
      "text/plain": [
       "numpy.ndarray"
      ]
     },
     "execution_count": 69,
     "metadata": {},
     "output_type": "execute_result"
    }
   ],
   "source": [
    "type(arr)   # Tipo do objeto\n"
   ]
  },
  {
   "cell_type": "code",
   "execution_count": 70,
   "id": "c4a0e396-d494-498d-9e50-1f47e0c09064",
   "metadata": {},
   "outputs": [
    {
     "data": {
      "text/plain": [
       "dtype('int32')"
      ]
     },
     "execution_count": 70,
     "metadata": {},
     "output_type": "execute_result"
    }
   ],
   "source": [
    "arr.dtype # Tipo do dado armazenado no objeto"
   ]
  },
  {
   "cell_type": "code",
   "execution_count": null,
   "id": "e11264b7-4124-4bcd-8fe0-bdec1e720715",
   "metadata": {},
   "outputs": [],
   "source": [
    "# Fazendo o casting de uma string para numero"
   ]
  },
  {
   "cell_type": "code",
   "execution_count": 75,
   "id": "609be285-882c-42e2-8469-9c02d3ebb6ce",
   "metadata": {},
   "outputs": [
    {
     "data": {
      "text/plain": [
       "dtype('uint8')"
      ]
     },
     "execution_count": 75,
     "metadata": {},
     "output_type": "execute_result"
    }
   ],
   "source": [
    "arr.dtype"
   ]
  },
  {
   "cell_type": "code",
   "execution_count": 76,
   "id": "a6746524-9526-4918-b63b-af833557f54a",
   "metadata": {},
   "outputs": [],
   "source": [
    "arr = arr.astype(np.uint8) # Casting do int32 para unsigned de 8 - isto impossibilita o registro de nº negativos e esta limitado até 255\n",
    "\n",
    "# TIPO                Código do tipo\n",
    "# int8, uint8         i1,u1\n",
    "# int16, uint16       i2,u2\n",
    "# int32, uint32       i4,u4\n",
    "# int64, uint64       i8,u8\n",
    "\n",
    "# float16              f2\n",
    "# float32              f4 ou f\n",
    "# float64              f8 ou d\n",
    "# float124             f16 ou g\n",
    "\n",
    "# complex64            c8\n",
    "# complex128           c16\n",
    "# complex256           c32\n",
    "\n",
    "# bool                 ?\n",
    "# object               O\n",
    "# string_              S\n",
    "# unicode_             U\n",
    "\n"
   ]
  },
  {
   "cell_type": "code",
   "execution_count": 77,
   "id": "b346529d-8e0b-40d3-838c-bdfa85c7733c",
   "metadata": {},
   "outputs": [],
   "source": [
    "# Fazendo o casting de um array string para float\n",
    "arr=np.array([\"1.0\", \"2.2\", \"3.3\", \".4\", \"5.2\"])"
   ]
  },
  {
   "cell_type": "code",
   "execution_count": 78,
   "id": "4848a1be-8473-410f-8978-bbe1856ef805",
   "metadata": {},
   "outputs": [
    {
     "data": {
      "text/plain": [
       "array(['1.0', '2.2', '3.3', '.4', '5.2'], dtype='<U3')"
      ]
     },
     "execution_count": 78,
     "metadata": {},
     "output_type": "execute_result"
    }
   ],
   "source": [
    "arr"
   ]
  },
  {
   "cell_type": "code",
   "execution_count": 80,
   "id": "365104f9-03c8-4abd-8e0a-3d99ede8aedc",
   "metadata": {},
   "outputs": [],
   "source": [
    "arr = arr.astype(float)                                              # Fazendo a coversão de string --> float"
   ]
  },
  {
   "cell_type": "code",
   "execution_count": 82,
   "id": "06200c54-ee6c-405d-8937-3f3096d2bbb4",
   "metadata": {},
   "outputs": [
    {
     "data": {
      "text/plain": [
       "dtype('float64')"
      ]
     },
     "execution_count": 82,
     "metadata": {},
     "output_type": "execute_result"
    }
   ],
   "source": [
    "arr.dtype\n"
   ]
  },
  {
   "cell_type": "code",
   "execution_count": 88,
   "id": "b30efa27-bf62-4eea-bcd9-a8e988cb55ad",
   "metadata": {},
   "outputs": [],
   "source": [
    " # Outro exemplo de casting usando o tipo de referência de outro objeto \n",
    "\n",
    "arr2=np.array([\"2.4\", \"5.8\", \"0.3\", \"-8.4\", \"-35.2\"])"
   ]
  },
  {
   "cell_type": "code",
   "execution_count": 89,
   "id": "282b9ede-bbfe-4242-b6bf-51a2b8150758",
   "metadata": {},
   "outputs": [
    {
     "data": {
      "text/plain": [
       "array(['2.4', '5.8', '0.3', '-8.4', '-35.2'], dtype='<U5')"
      ]
     },
     "execution_count": 89,
     "metadata": {},
     "output_type": "execute_result"
    }
   ],
   "source": [
    "arr2"
   ]
  },
  {
   "cell_type": "code",
   "execution_count": 91,
   "id": "89fd78c7-74c8-4ffe-817a-accdac64557b",
   "metadata": {},
   "outputs": [
    {
     "data": {
      "text/plain": [
       "array([  2.4,   5.8,   0.3,  -8.4, -35.2])"
      ]
     },
     "execution_count": 91,
     "metadata": {},
     "output_type": "execute_result"
    }
   ],
   "source": [
    "arr2.astype(arr.dtype)"
   ]
  },
  {
   "cell_type": "code",
   "execution_count": 202,
   "id": "fa78d4c8-540a-4097-a2c0-2d6abcdf22a0",
   "metadata": {},
   "outputs": [],
   "source": [
    "############################################################  Aritmética com arrays\n",
    "\n",
    "arr = np.array([[1.,2.,3.],[4.,5.,6.]])"
   ]
  },
  {
   "cell_type": "code",
   "execution_count": 203,
   "id": "cbea8847-8aeb-455d-9eb7-94d522b97a9e",
   "metadata": {},
   "outputs": [
    {
     "data": {
      "text/plain": [
       "array([[1., 2., 3.],\n",
       "       [4., 5., 6.]])"
      ]
     },
     "execution_count": 203,
     "metadata": {},
     "output_type": "execute_result"
    }
   ],
   "source": [
    "arr"
   ]
  },
  {
   "cell_type": "code",
   "execution_count": 204,
   "id": "c425c08e-9a8a-4355-ac47-405df0eedbda",
   "metadata": {},
   "outputs": [
    {
     "data": {
      "text/plain": [
       "array([[11., 12., 13.],\n",
       "       [14., 15., 16.]])"
      ]
     },
     "execution_count": 204,
     "metadata": {},
     "output_type": "execute_result"
    }
   ],
   "source": [
    "# Adiação de um escalar ao array\n",
    "arr+10"
   ]
  },
  {
   "cell_type": "code",
   "execution_count": 205,
   "id": "a6e49832-8d33-4659-9c8d-4ae5f2e04b53",
   "metadata": {},
   "outputs": [
    {
     "data": {
      "text/plain": [
       "array([[ 3.12,  6.24,  9.36],\n",
       "       [12.48, 15.6 , 18.72]])"
      ]
     },
     "execution_count": 205,
     "metadata": {},
     "output_type": "execute_result"
    }
   ],
   "source": [
    "# Multiplicação de um escalar \n",
    "\n",
    "arr*3.12"
   ]
  },
  {
   "cell_type": "code",
   "execution_count": 206,
   "id": "90ae091d-4987-4505-aded-6fe796f440ea",
   "metadata": {},
   "outputs": [
    {
     "data": {
      "text/plain": [
       "array([[ 1.,  4.,  9.],\n",
       "       [16., 25., 36.]])"
      ]
     },
     "execution_count": 206,
     "metadata": {},
     "output_type": "execute_result"
    }
   ],
   "source": [
    "# Multiplicação de número na mesma posição\n",
    "arr * arr"
   ]
  },
  {
   "cell_type": "code",
   "execution_count": 207,
   "id": "177deccb-323d-41b1-bff0-b6c7b39aa29c",
   "metadata": {},
   "outputs": [
    {
     "data": {
      "text/plain": [
       "array([[0., 0., 0.],\n",
       "       [0., 0., 0.]])"
      ]
     },
     "execution_count": 207,
     "metadata": {},
     "output_type": "execute_result"
    }
   ],
   "source": [
    "# Subtração de um array por outro array em uma mesma posição\n",
    "arr - arr"
   ]
  },
  {
   "cell_type": "code",
   "execution_count": 208,
   "id": "ea7a04d6-6037-4ddd-99b3-4eab02e37ccc",
   "metadata": {},
   "outputs": [
    {
     "data": {
      "text/plain": [
       "array([[1., 2., 3.],\n",
       "       [4., 5., 6.]])"
      ]
     },
     "execution_count": 208,
     "metadata": {},
     "output_type": "execute_result"
    }
   ],
   "source": [
    "# Comparações entre arrays de mesma dimensão ( Arrays de tamanho diferentes exigem broadcasting)\n",
    "\n",
    "arr"
   ]
  },
  {
   "cell_type": "code",
   "execution_count": 209,
   "id": "c801c9fe-d60e-4a1d-ba56-b643822e05f8",
   "metadata": {},
   "outputs": [
    {
     "data": {
      "text/plain": [
       "array([[False,  True,  True],\n",
       "       [False, False,  True]])"
      ]
     },
     "execution_count": 209,
     "metadata": {},
     "output_type": "execute_result"
    }
   ],
   "source": [
    "\n",
    "arr > np.array([[1,1,1],[6,5,4]])"
   ]
  },
  {
   "cell_type": "code",
   "execution_count": 211,
   "id": "1c6c05ef-0c65-45e8-b24a-bc5cdf083654",
   "metadata": {},
   "outputs": [
    {
     "data": {
      "text/plain": [
       "array([[14., 32.],\n",
       "       [32., 77.]])"
      ]
     },
     "execution_count": 211,
     "metadata": {},
     "output_type": "execute_result"
    }
   ],
   "source": [
    "# Multiplicação de matriz\n",
    "\n",
    " np.dot(arr,arr.T)\n",
    "\n",
    "# arr @ arr.T"
   ]
  },
  {
   "cell_type": "code",
   "execution_count": 212,
   "id": "22ee0967-a4b2-47a5-90bf-dbd0bd30980d",
   "metadata": {},
   "outputs": [
    {
     "name": "stdout",
     "output_type": "stream",
     "text": [
      "[[1. 2. 3.]\n",
      " [4. 5. 6.]]\n"
     ]
    },
    {
     "data": {
      "text/plain": [
       "array([[1., 4.],\n",
       "       [2., 5.],\n",
       "       [3., 6.]])"
      ]
     },
     "execution_count": 212,
     "metadata": {},
     "output_type": "execute_result"
    }
   ],
   "source": [
    "print(arr)\n",
    "arr.swapaxes(0,1)    # Troca dos eixos selecionados"
   ]
  },
  {
   "cell_type": "code",
   "execution_count": 178,
   "id": "e232f7fa-a2a4-4c07-ac2d-213292f7a87b",
   "metadata": {},
   "outputs": [],
   "source": [
    "############################################################# INDEXAÇÃO E FATIAMENTO (SLICING)\n",
    "\n",
    "arr = np.array(range(16)).reshape(4,4)     # Criando uma sequencia vetorial e transformando a forma para bidimensional 4x4\n"
   ]
  },
  {
   "cell_type": "code",
   "execution_count": 179,
   "id": "805e91fc-9c63-40f6-8a53-c99e64b5ac06",
   "metadata": {},
   "outputs": [
    {
     "data": {
      "text/plain": [
       "array([[ 0,  1,  2,  3],\n",
       "       [ 4,  5,  6,  7],\n",
       "       [ 8,  9, 10, 11],\n",
       "       [12, 13, 14, 15]])"
      ]
     },
     "execution_count": 179,
     "metadata": {},
     "output_type": "execute_result"
    }
   ],
   "source": [
    "arr"
   ]
  },
  {
   "cell_type": "code",
   "execution_count": 180,
   "id": "3733a17c-640c-462f-ac87-f0406d17082d",
   "metadata": {},
   "outputs": [
    {
     "data": {
      "text/plain": [
       "(4, 4)"
      ]
     },
     "execution_count": 180,
     "metadata": {},
     "output_type": "execute_result"
    }
   ],
   "source": [
    "arr.shape"
   ]
  },
  {
   "cell_type": "code",
   "execution_count": 181,
   "id": "c9a93c5f-a463-4700-81bc-3a87a1f64376",
   "metadata": {},
   "outputs": [
    {
     "data": {
      "text/plain": [
       "2"
      ]
     },
     "execution_count": 181,
     "metadata": {},
     "output_type": "execute_result"
    }
   ],
   "source": [
    "arr.ndim"
   ]
  },
  {
   "cell_type": "code",
   "execution_count": 182,
   "id": "0699df11-1321-4dff-8a81-2bf6e0d37bba",
   "metadata": {},
   "outputs": [
    {
     "data": {
      "text/plain": [
       "array([ 0,  4,  8, 12])"
      ]
     },
     "execution_count": 182,
     "metadata": {},
     "output_type": "execute_result"
    }
   ],
   "source": [
    "arr[:,0]                                    # Seleção da primeira coluna"
   ]
  },
  {
   "cell_type": "code",
   "execution_count": 183,
   "id": "e13fd176-0bbb-4c2e-81ef-3a8867d96aef",
   "metadata": {},
   "outputs": [
    {
     "data": {
      "text/plain": [
       "array([ 8,  9, 10, 11])"
      ]
     },
     "execution_count": 183,
     "metadata": {},
     "output_type": "execute_result"
    }
   ],
   "source": [
    "arr[2,:]                                    # Seleção da terceira linha"
   ]
  },
  {
   "cell_type": "code",
   "execution_count": 184,
   "id": "95c5ecdf-a5b5-4e37-84dc-7b8108a8fc80",
   "metadata": {},
   "outputs": [
    {
     "data": {
      "text/plain": [
       "array([[ 4,  5,  6,  7],\n",
       "       [ 8,  9, 10, 11]])"
      ]
     },
     "execution_count": 184,
     "metadata": {},
     "output_type": "execute_result"
    }
   ],
   "source": [
    "arr[1:3,:]                                 # Seleção das linhas 1 e 2 com toda as colunas"
   ]
  },
  {
   "cell_type": "code",
   "execution_count": 185,
   "id": "f90e44be-6c3c-44cc-b2b3-1116396cbd3a",
   "metadata": {},
   "outputs": [],
   "source": [
    "arr_fatia = arr[1:3,:].copy()               # Fazendo uma copia de uma seleção do array"
   ]
  },
  {
   "cell_type": "code",
   "execution_count": 186,
   "id": "52cca8d0-c895-4d80-ac88-48f0a54a1174",
   "metadata": {},
   "outputs": [
    {
     "data": {
      "text/plain": [
       "array([[ 4,  5,  6,  7],\n",
       "       [ 8,  9, 10, 11]])"
      ]
     },
     "execution_count": 186,
     "metadata": {},
     "output_type": "execute_result"
    }
   ],
   "source": [
    "arr_fatia"
   ]
  },
  {
   "cell_type": "code",
   "execution_count": 217,
   "id": "76a98b0a-6e01-4654-81f7-79513a686209",
   "metadata": {},
   "outputs": [
    {
     "name": "stdout",
     "output_type": "stream",
     "text": [
      "[2 4]\n"
     ]
    }
   ],
   "source": [
    "# Fatiamento com pulo\n",
    "arr = np.array([1, 2, 3, 4, 5, 6, 7])\n",
    "print(arr[1:5:2])"
   ]
  },
  {
   "cell_type": "code",
   "execution_count": 187,
   "id": "2967ffa1-86f7-45d7-a6f5-a469ad022ba7",
   "metadata": {},
   "outputs": [
    {
     "name": "stdout",
     "output_type": "stream",
     "text": [
      "Arrayd com os names (string)\n",
      "['Bob' 'Joe' 'Will' 'Bob' 'Will' 'Joe' 'Joe']\n",
      "\n",
      "Array com os dados\n",
      "[[  4   7]\n",
      " [  0   2]\n",
      " [ -5   6]\n",
      " [  0   0]\n",
      " [  1   2]\n",
      " [-12  -4]\n",
      " [  3   4]]\n"
     ]
    }
   ],
   "source": [
    " # Indexação booleana\n",
    "\n",
    "names = np.array([\"Bob\",\"Joe\",\"Will\",\"Bob\",\"Will\",\"Joe\",\"Joe\"])\n",
    "data=np.array([[4,7],[0,2],[-5,6],[0,0],[1,2],[-12,-4],[3,4]])\n",
    "print(\"Arrayd com os names (string)\")\n",
    "print(names)\n",
    "print(\"\\nArray com os dados\")\n",
    "print(data)"
   ]
  },
  {
   "cell_type": "code",
   "execution_count": 188,
   "id": "b1a294dd-af50-4468-b51c-bb5daef971c1",
   "metadata": {},
   "outputs": [
    {
     "data": {
      "text/plain": [
       "array([4, 0])"
      ]
     },
     "execution_count": 188,
     "metadata": {},
     "output_type": "execute_result"
    }
   ],
   "source": [
    "data[names==\"Bob\",0]                        # Seleção  no array data da primeira colunas onde names==Bob "
   ]
  },
  {
   "cell_type": "code",
   "execution_count": 189,
   "id": "c85013f6-7be2-486f-bf45-84164a223619",
   "metadata": {},
   "outputs": [
    {
     "data": {
      "text/plain": [
       "array([[  0,   2],\n",
       "       [ -5,   6],\n",
       "       [  1,   2],\n",
       "       [-12,  -4],\n",
       "       [  3,   4]])"
      ]
     },
     "execution_count": 189,
     "metadata": {},
     "output_type": "execute_result"
    }
   ],
   "source": [
    "data[names != \"Bob\"]                        # Seleção excluindo \"Bob\"\n",
    "# data[~(names==\"Bob\")]                     # Faz a mesma seleção com outra sintaxe\n",
    "\n",
    "#mask =(names==\"Bob\")|(names==\"Will\")       # Seleção com uma condicional combinada\n",
    "#data[mask] \n",
    "\n",
    "# !!!!!!!!!!!!  A seleção de dados por indexação booleana e a atribuição do resultado sempre cria uma cópia dos dados mesmo se o array não for alterado !!!"
   ]
  },
  {
   "cell_type": "code",
   "execution_count": 190,
   "id": "0486cdcc-f82c-4073-b8cb-a373a70a6829",
   "metadata": {},
   "outputs": [
    {
     "name": "stdout",
     "output_type": "stream",
     "text": [
      "[[  4   7]\n",
      " [  0   2]\n",
      " [ -5   6]\n",
      " [  0   0]\n",
      " [  1   2]\n",
      " [-12  -4]\n",
      " [  3   4]]\n",
      "\n",
      "Truncamento dos valores negativos da segunda coluna\n",
      "\n",
      "[[ 4  7]\n",
      " [ 0  2]\n",
      " [ 0  6]\n",
      " [ 0  0]\n",
      " [ 1  2]\n",
      " [ 0 -4]\n",
      " [ 3  4]]\n"
     ]
    }
   ],
   "source": [
    "# Imputação com base em condições boolenas  (similar ao r)\n",
    "print(data)\n",
    "data[data[:,0]<0,0] = 0 \n",
    "print(\"\\nTruncamento dos valores negativos da segunda coluna\\n\")\n",
    "print(data)"
   ]
  },
  {
   "cell_type": "code",
   "execution_count": 191,
   "id": "117f5110-7177-4ba3-98df-883e48c2b4f8",
   "metadata": {},
   "outputs": [
    {
     "data": {
      "text/plain": [
       "(7, 2)"
      ]
     },
     "execution_count": 191,
     "metadata": {},
     "output_type": "execute_result"
    }
   ],
   "source": [
    "data.shape"
   ]
  },
  {
   "cell_type": "code",
   "execution_count": 198,
   "id": "23c44dea-7b66-4880-b81b-01d808484830",
   "metadata": {},
   "outputs": [
    {
     "name": "stdout",
     "output_type": "stream",
     "text": [
      "[[ 0  1  2  3]\n",
      " [ 4  5  6  7]\n",
      " [ 8  9 10 11]\n",
      " [12 13 14 15]\n",
      " [16 17 18 19]\n",
      " [20 21 22 23]\n",
      " [24 25 26 27]\n",
      " [28 29 30 31]]\n",
      "\n",
      "\n",
      "\n"
     ]
    },
    {
     "data": {
      "text/plain": [
       "array([[ 4,  7,  5,  6],\n",
       "       [20, 23, 21, 22],\n",
       "       [28, 31, 29, 30],\n",
       "       [ 8, 11,  9, 10]])"
      ]
     },
     "execution_count": 198,
     "metadata": {},
     "output_type": "execute_result"
    }
   ],
   "source": [
    "# Exemplo de indexação mais sofisticada\n",
    "\n",
    "arr=np.arange(32).reshape((8,4))\n",
    "print(arr)\n",
    "print(\"\\n\\n\")\n",
    "\n",
    "arr[[1,5,7,2]][:,[0,3,1,2]]    # A primeira parte seleciona as linhas e a últma seleciona a ordem de apresentação das colunas"
   ]
  },
  {
   "cell_type": "code",
   "execution_count": 200,
   "id": "fd414d35-93f6-4e42-a9ec-2f48761b26fc",
   "metadata": {},
   "outputs": [
    {
     "data": {
      "text/plain": [
       "array([[ 0,  4,  8, 12, 16, 20, 24, 28],\n",
       "       [ 1,  5,  9, 13, 17, 21, 25, 29],\n",
       "       [ 2,  6, 10, 14, 18, 22, 26, 30],\n",
       "       [ 3,  7, 11, 15, 19, 23, 27, 31]])"
      ]
     },
     "execution_count": 200,
     "metadata": {},
     "output_type": "execute_result"
    }
   ],
   "source": [
    "# Transposição de um array\n",
    "\n",
    "arr.T"
   ]
  },
  {
   "cell_type": "code",
   "execution_count": 221,
   "id": "b0258a05-8468-4ef3-a27d-b862f02b7450",
   "metadata": {},
   "outputs": [
    {
     "name": "stdout",
     "output_type": "stream",
     "text": [
      "1\n",
      "2\n",
      "3\n",
      "4\n",
      "5\n",
      "6\n",
      "7\n",
      "8\n"
     ]
    }
   ],
   "source": [
    "#  nditer possibilita iterar por cada valor do array\n",
    "arr = np.array([[[1, 2], [3, 4]], [[5, 6], [7, 8]]])\n",
    "\n",
    "for x in np.nditer(arr):\n",
    "  print(x)"
   ]
  },
  {
   "cell_type": "code",
   "execution_count": 222,
   "id": "c253d616-edc5-48e4-b91d-60dfd50f7c42",
   "metadata": {},
   "outputs": [
    {
     "name": "stdout",
     "output_type": "stream",
     "text": [
      "1\n",
      "3\n",
      "5\n",
      "7\n"
     ]
    }
   ],
   "source": [
    "# Fazendo a iteração com diferentes tamanhos de passo.\n",
    "\n",
    "arr = np.array([[1, 2, 3, 4], [5, 6, 7, 8]])\n",
    "\n",
    "for x in np.nditer(arr[:, ::2]):\n",
    "  print(x)"
   ]
  },
  {
   "cell_type": "code",
   "execution_count": 223,
   "id": "2615c729-a8bd-42ba-92a4-1d0c07a6b29e",
   "metadata": {},
   "outputs": [
    {
     "name": "stdout",
     "output_type": "stream",
     "text": [
      "(0,) 1\n",
      "(1,) 2\n",
      "(2,) 3\n"
     ]
    }
   ],
   "source": [
    "# ndenumerate mencionar a sequência numérica\n",
    "\n",
    "arr = np.array([1, 2, 3])\n",
    "\n",
    "for idx, x in np.ndenumerate(arr):\n",
    "  print(idx, x)"
   ]
  },
  {
   "cell_type": "code",
   "execution_count": 234,
   "id": "d7e5fa6d-fc7f-4982-af58-ee68b6c1dd12",
   "metadata": {},
   "outputs": [
    {
     "name": "stdout",
     "output_type": "stream",
     "text": [
      "[1 2 3 4 5 6]\n"
     ]
    }
   ],
   "source": [
    "#######################################   Manipulando arrays\n",
    "\n",
    "arr1 = np.array([1, 2, 3])\n",
    "arr2 = np.array([4, 5, 6])\n",
    "arr = np.concatenate((arr1, arr2))\n",
    "print(arr)\n"
   ]
  },
  {
   "cell_type": "code",
   "execution_count": 238,
   "id": "e3b0f715-2c34-4732-9e0c-6db3c12bba2b",
   "metadata": {},
   "outputs": [
    {
     "name": "stdout",
     "output_type": "stream",
     "text": [
      "[[1 2]\n",
      " [3 4]\n",
      " [5 6]\n",
      " [7 8]]\n"
     ]
    }
   ],
   "source": [
    "# Pode fazer a concatenação por linha(axis=0) ou por coluna(axis=1). (similar ao bind_rows, bind_col no R)\n",
    "\n",
    "arr1 = np.array([[1, 2], [3, 4]])\n",
    "arr2 = np.array([[5, 6], [7, 8]])\n",
    "arr = np.concatenate((arr1, arr2), axis=0)\n",
    "print(arr)"
   ]
  },
  {
   "cell_type": "code",
   "execution_count": 239,
   "id": "9ae7ace9-c02f-4d6d-9f7d-04231c8cef83",
   "metadata": {},
   "outputs": [
    {
     "name": "stdout",
     "output_type": "stream",
     "text": [
      "[[1 4]\n",
      " [2 5]\n",
      " [3 6]]\n"
     ]
    }
   ],
   "source": [
    " # Stack esta mais próximo de cbind ou rbind no r.\n",
    "arr1 = np.array([1, 2, 3])\n",
    "arr2 = np.array([4, 5, 6])\n",
    "arr = np.stack((arr1, arr2), axis=1)\n",
    "print(arr)"
   ]
  },
  {
   "cell_type": "code",
   "execution_count": 242,
   "id": "fb00bce5-224a-405f-8214-a759298beda7",
   "metadata": {},
   "outputs": [
    {
     "name": "stdout",
     "output_type": "stream",
     "text": [
      "[1 2 3 4 5 6]\n",
      "[[1 2 3]\n",
      " [4 5 6]]\n",
      "[[[1 4]\n",
      "  [2 5]\n",
      "  [3 6]]]\n"
     ]
    }
   ],
   "source": [
    "# hstack faz o empilhamento ao longo da linha  \"h\" e o vstack faz o empilhamento vertical, e o \"d\" dstack faz o empilhamento em dimensões (imagens rgb??)\n",
    "\n",
    "arr1 = np.array([1, 2, 3])\n",
    "arr2 = np.array([4, 5, 6])\n",
    "arr = np.hstack((arr1, arr2))\n",
    "print(arr)\n",
    "\n",
    "arr = np.vstack((arr1, arr2))\n",
    "print(arr)\n",
    "\n",
    "arr = np.dstack((arr1, arr2))\n",
    "print(arr)"
   ]
  },
  {
   "cell_type": "code",
   "execution_count": 244,
   "id": "35bacf17-13d9-447a-a39f-e3653cb41bec",
   "metadata": {},
   "outputs": [
    {
     "name": "stdout",
     "output_type": "stream",
     "text": [
      "[array([1, 2]), array([3, 4]), array([5, 6])]\n",
      "[1 2]\n"
     ]
    }
   ],
   "source": [
    "# array_split para dividir arrays, passamos o array que queremos dividir e o número de divisões\n",
    "\n",
    "arr = np.array([1, 2, 3, 4, 5, 6])\n",
    "newarr = np.array_split(arr, 3)\n",
    "print(newarr)\n",
    "print(newarr[0])"
   ]
  },
  {
   "cell_type": "code",
   "execution_count": 245,
   "id": "05cfa358-a90f-40d5-bca1-56a1d4a0bae8",
   "metadata": {},
   "outputs": [
    {
     "name": "stdout",
     "output_type": "stream",
     "text": [
      "[array([[ 1],\n",
      "       [ 4],\n",
      "       [ 7],\n",
      "       [10],\n",
      "       [13],\n",
      "       [16]]), array([[ 2],\n",
      "       [ 5],\n",
      "       [ 8],\n",
      "       [11],\n",
      "       [14],\n",
      "       [17]]), array([[ 3],\n",
      "       [ 6],\n",
      "       [ 9],\n",
      "       [12],\n",
      "       [15],\n",
      "       [18]])]\n"
     ]
    }
   ],
   "source": [
    " # Dividindo uma matriz com escolha do eixo ( coluna)\n",
    "\n",
    "arr = np.array([[1, 2, 3], [4, 5, 6], [7, 8, 9], [10, 11, 12], [13, 14, 15], [16, 17, 18]])\n",
    "newarr = np.array_split(arr, 3, axis=1)\n",
    "\n",
    "print(newarr)"
   ]
  },
  {
   "cell_type": "code",
   "execution_count": 247,
   "id": "e26f52d6-ea6f-42a6-a1dc-1133764b382a",
   "metadata": {},
   "outputs": [
    {
     "name": "stdout",
     "output_type": "stream",
     "text": [
      "[array([[ 1],\n",
      "       [ 4],\n",
      "       [ 7],\n",
      "       [10],\n",
      "       [13],\n",
      "       [16]]), array([[ 2],\n",
      "       [ 5],\n",
      "       [ 8],\n",
      "       [11],\n",
      "       [14],\n",
      "       [17]]), array([[ 3],\n",
      "       [ 6],\n",
      "       [ 9],\n",
      "       [12],\n",
      "       [15],\n",
      "       [18]])]\n"
     ]
    }
   ],
   "source": [
    "# hsplit()  é usado  para dividir a matriz 2-D em três matrizes 2-D ao longo das linhas.\n",
    "\n",
    "arr = np.array([[1, 2, 3], [4, 5, 6], [7, 8, 9], [10, 11, 12], [13, 14, 15], [16, 17, 18]])\n",
    "newarr = np.hsplit(arr, 3)\n",
    "\n",
    "print(newarr)"
   ]
  },
  {
   "cell_type": "code",
   "execution_count": 248,
   "id": "ecf963c4-ee68-4fb2-903c-8f86b74cf5a9",
   "metadata": {},
   "outputs": [
    {
     "name": "stdout",
     "output_type": "stream",
     "text": [
      "(array([3, 5, 6], dtype=int64),)\n"
     ]
    }
   ],
   "source": [
    "###############################################################  Funcionalidades de BUSCA\n",
    "\n",
    "# Retorno dos indices em que condição foi verdadeira\n",
    "arr = np.array([1, 2, 3, 4, 5, 4, 4])\n",
    "x = np.where(arr == 4)\n",
    "\n",
    "print(x)"
   ]
  },
  {
   "cell_type": "code",
   "execution_count": 250,
   "id": "6d6b66a3-a145-405a-b783-6c5adf10b6fb",
   "metadata": {},
   "outputs": [
    {
     "name": "stdout",
     "output_type": "stream",
     "text": [
      "(array([1, 3, 5, 6, 7], dtype=int64),)\n"
     ]
    }
   ],
   "source": [
    "# Seleção dos indices com ocorrencia de pares\n",
    "\n",
    "arr = np.array([1, 2, 3, 4, 5, 6, 10, 8])\n",
    "x = np.where(arr%2 == 0)\n",
    "\n",
    "print(x)"
   ]
  },
  {
   "cell_type": "code",
   "execution_count": 258,
   "id": "fcba40d4-d08f-4993-8bfd-e6a31136035d",
   "metadata": {},
   "outputs": [
    {
     "name": "stdout",
     "output_type": "stream",
     "text": [
      "[1.1 2.2 1.3 1.4 2.5]\n"
     ]
    }
   ],
   "source": [
    "# Se cond=True seleciona o elemento do primeiro vetor senão do 2 vetor \n",
    "\n",
    "xarr = np.array([1.1, 1.2, 1.3, 1.4, 1.4])\n",
    "yarr = np.array([2.1, 2.2, 2.3, 2.4, 2.5])\n",
    "cond = np.array([True, False, True, True, False])\n",
    "\n",
    "result=np.where(cond,xarr,yarr)\n",
    "print(result)"
   ]
  },
  {
   "cell_type": "code",
   "execution_count": 254,
   "id": "dbf16376-721a-49b1-904b-09d29aa2a1d9",
   "metadata": {},
   "outputs": [
    {
     "name": "stdout",
     "output_type": "stream",
     "text": [
      "2\n",
      "1\n"
     ]
    }
   ],
   "source": [
    "# realiza uma busca binária na matriz e retorna o índice onde o valor especificado seria inserido para manter a ordem da busca\n",
    "\n",
    "arr = np.array([6, 7, 8, 9])\n",
    "\n",
    "x = np.searchsorted(arr, 7, side='right')\n",
    "print(x)\n",
    "\n",
    "x = np.searchsorted(arr, 7, side='left')\n",
    "print(x)"
   ]
  },
  {
   "cell_type": "code",
   "execution_count": 255,
   "id": "6b04322a-db02-4d4f-8533-757445e45460",
   "metadata": {},
   "outputs": [
    {
     "name": "stdout",
     "output_type": "stream",
     "text": [
      "[False  True False  True False  True False]\n",
      "[2 4 6]\n"
     ]
    }
   ],
   "source": [
    "# Filtro de array\n",
    "\n",
    "arr = np.array([1, 2, 3, 4, 5, 6, 7])\n",
    "filter_arr = arr % 2 == 0\n",
    "newarr = arr[filter_arr]\n",
    "\n",
    "print(filter_arr)\n",
    "print(newarr)"
   ]
  },
  {
   "cell_type": "code",
   "execution_count": 256,
   "id": "6f636708-8051-42fb-8f25-b244706b9c5d",
   "metadata": {},
   "outputs": [
    {
     "name": "stdout",
     "output_type": "stream",
     "text": [
      "[[2 3 4]\n",
      " [0 1 5]]\n"
     ]
    }
   ],
   "source": [
    "# Ordenação de array\n",
    "arr = np.array([[3, 2, 4], [5, 0, 1]])\n",
    "print(np.sort(arr))"
   ]
  }
 ],
 "metadata": {
  "kernelspec": {
   "display_name": "Python 3 (ipykernel)",
   "language": "python",
   "name": "python3"
  },
  "language_info": {
   "codemirror_mode": {
    "name": "ipython",
    "version": 3
   },
   "file_extension": ".py",
   "mimetype": "text/x-python",
   "name": "python",
   "nbconvert_exporter": "python",
   "pygments_lexer": "ipython3",
   "version": "3.11.7"
  }
 },
 "nbformat": 4,
 "nbformat_minor": 5
}
