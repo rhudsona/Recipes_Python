{
 "cells": [
  {
   "cell_type": "markdown",
   "id": "2244b205-8392-433f-8229-64bb7eaf58c5",
   "metadata": {},
   "source": [
    "## O que são ufuncs?\n",
    "\n",
    "ufuncs significa \"Funções Universais\" e são funções NumPy que operam no ndarray objeto.\n",
    "\n",
    "## Por que usar ufuncs?\n",
    "\n",
    "ufuncs são usados ​​para implementar a vetorização no NumPy, o que é muito mais rápido do que iterar sobre elementos.\n",
    "\n",
    "Eles também fornecem transmissão e métodos adicionais, como redução, acumulação etc., que são muito úteis para computação.\n",
    "ufuncs também aceita argumentos adicionais, como:\n",
    "\n",
    "**where** matriz booleana ou condição que define onde as operações devem ocorrer.\n",
    "\n",
    "**dtype** definindo o tipo de retorno dos elementos.\n",
    "\n",
    "**out** matriz de saída onde o valor de retorno deve ser copiado.\n",
    "\n",
    "## O que é vetorização?\n",
    "\n",
    "A conversão de instruções iterativas em uma operação baseada em vetor é chamada de vetorização.\n",
    "É mais rápido porque as CPUs modernas são otimizadas para tais operações.\n"
   ]
  },
  {
   "cell_type": "code",
   "execution_count": 1,
   "id": "270900e7-0e2d-46ab-a525-9a01a7bc5243",
   "metadata": {},
   "outputs": [],
   "source": [
    "import numpy as np\n",
    "import pandas as pd\n",
    "import matplotlib.pyplot as plt\n",
    "import statsmodels as sm\n",
    "pd.options.display.max_columns=20\n",
    "pd.options.display.max_rows=20\n",
    "pd.options.display.max_colwidth=80\n",
    "np.set_printoptions(precision=4,suppress=True)"
   ]
  },
  {
   "cell_type": "markdown",
   "id": "ea3f21e3-c192-4fd5-9c53-25f7816b871b",
   "metadata": {},
   "source": [
    "## Function Arithmetic"
   ]
  },
  {
   "cell_type": "code",
   "execution_count": null,
   "id": "83fd56e3-1c62-4e8f-baa8-3477383a8557",
   "metadata": {},
   "outputs": [],
   "source": [
    "# ufunc binárias\n",
    "x = [1, 2, 3, 4]\n",
    "y = [4, 5, 6, 7]\n",
    "z = [1.2, 1.24, 1.1, 1.3]\n",
    "\n",
    "print(\"x=\",x)\n",
    "print(\"y=\",y)\n",
    "print(\"z=\",z)\n",
    "\n",
    "print(\"x+y=\", np.add(x, y))                                       # Adição\n",
    "print(\"y-x=\", np.subtract(y,x))                                   # Subtração\n",
    "print(\"y*x=\", np.multiply(y,x))                                   # Multiplicação\n",
    "print(\"y/x=\",np.divide(y,x))                                      # Divisao\n",
    "print(\"y^z=\",np.power(y, z))                                      # Elevado a potência\n",
    "print(\"x%y=\",np.mod(y, x))                                        # Resto da divisão\n",
    "print(\"x//y=\",np.divmod(y, x))                                    # retorna tanto o quociente 1º array, quanto o mod 2º array.\n",
    "np.absolute(arr)"
   ]
  },
  {
   "cell_type": "code",
   "execution_count": 26,
   "id": "fd36fa8a-b642-497e-806c-c453c66a39a6",
   "metadata": {},
   "outputs": [
    {
     "name": "stdout",
     "output_type": "stream",
     "text": [
      "[1 2 1 2 3 4]\n",
      "[-3.  3.]\n",
      "[-3.17  3.67]\n",
      "[-4.  3.  2.]\n",
      "[-3.  4.  3.]\n"
     ]
    }
   ],
   "source": [
    "# ufunc Unárias\n",
    "\n",
    "arr = np.array([-1, -2, 1, 2, 3, -4])\n",
    "\n",
    "print( np.absolute(arr))\n",
    "\n",
    "print(np.fix([-3.1666, 3.6667]))\n",
    "print(np.around([-3.1666, 3.6667], 2))\n",
    "print(np.floor([-3.1666, 3.6667, 2.5]))\n",
    "print(np.ceil([-3.1666, 3.6667, 2.5]))"
   ]
  },
  {
   "cell_type": "code",
   "execution_count": 64,
   "id": "178ee1b3-8e03-4192-a1f4-3a2d01e0f8bb",
   "metadata": {},
   "outputs": [
    {
     "name": "stdout",
     "output_type": "stream",
     "text": [
      "[0.     0.6931 1.0986 1.3863 1.6094 1.7918 1.9459 2.0794 2.1972]\n",
      "[0.     1.     1.585  2.     2.3219 2.585  2.8074 3.     3.1699]\n",
      "[0.     0.301  0.4771 0.6021 0.699  0.7782 0.8451 0.9031 0.9542]\n",
      "[   2.7183    7.3891   20.0855   54.5982  148.4132  403.4288 1096.6332\n",
      " 2980.958  8103.0839]\n",
      "[1.     1.4142 1.7321 2.     2.2361 2.4495 2.6458 2.8284 3.    ]\n"
     ]
    }
   ],
   "source": [
    "# Exponenciação\n",
    "arr = np.arange(1, 10)\n",
    "\n",
    "print(np.log(arr))\n",
    "print(np.log2(arr))\n",
    "print(np.log10(arr))\n",
    "print(np.exp(arr))\n",
    "print(np.sqrt(arr))"
   ]
  },
  {
   "cell_type": "code",
   "execution_count": null,
   "id": "a1a6210e-d861-4044-893f-575287e66fa9",
   "metadata": {},
   "outputs": [],
   "source": [
    "# "
   ]
  },
  {
   "cell_type": "code",
   "execution_count": 36,
   "id": "573a5844-ea2f-45e6-ba9b-f0dd223cfb47",
   "metadata": {},
   "outputs": [
    {
     "name": "stdout",
     "output_type": "stream",
     "text": [
      "24\n",
      "[ 1  2  6 24]\n",
      "[  24 1680]\n",
      "[ 5 12 21 32]\n",
      "[1 1 1]\n",
      "[0 0]\n"
     ]
    }
   ],
   "source": [
    "# Produtórios\n",
    "\n",
    "arr1 = np.array([1, 2, 3, 4])\n",
    "print(np.prod(arr1))                              # igual ao produtorio do vetor\n",
    "print(np.cumprod(arr1))                           # Acumulando o produto, neste exemplo serio o fatorial do indice\n",
    "arr2 = np.array([5, 6, 7, 8])\n",
    "\n",
    "print(np.prod([arr1, arr2], axis=1))       # Produtório dentro das colunas\n",
    "print(np.prod([arr1, arr2], axis=0))       # Produtório dentro das linhas\n",
    "\n",
    "#  Fazendo a diferença - equivalente ao diff no R muito usado em séries temporais\n",
    "\n",
    "print(np.diff(arr1))\n",
    "print(np.diff(arr1,n=2))    # Depois de fazer a primeira diferença, calcula outra diferença "
   ]
  },
  {
   "cell_type": "code",
   "execution_count": 104,
   "id": "ca709670-e157-41b9-a90b-0565a0480bf2",
   "metadata": {},
   "outputs": [
    {
     "name": "stdout",
     "output_type": "stream",
     "text": [
      "[0 1 2 3 4 5 6 7 8 9]\n",
      "Somatorio= 45\n",
      "Soma cumulativa= [ 0  1  3  6 10 15 21 28 36 45]\n",
      "Média= 4.5\n",
      "Máximo= 9\n",
      "Mínimo= 0\n",
      "Desvio-Padrao= 2.8722813232690143\n",
      "Variancia= 8.25\n",
      "[[10 11 12]\n",
      " [13 14 15]]\n",
      "Menor= [0 0 0]\n"
     ]
    }
   ],
   "source": [
    "# Somatorio e outras funções estatísticas\n",
    "\n",
    "arr = np.arange(10)\n",
    "print(arr)\n",
    "print(\"Somatorio=\",np.sum(arr))\n",
    "print(\"Soma cumulativa=\",np.cumsum(arr))\n",
    "print(\"Média=\",np.mean(arr))\n",
    "print(\"Máximo=\",np.max(arr))\n",
    "print(\"Mínimo=\",np.min(arr))\n",
    "print(\"Desvio-Padrao=\",np.std(arr))\n",
    "print(\"Variancia=\",np.var(arr))\n",
    "\n",
    "arr = np.arange(6).reshape(2,3) + 10\n",
    "print(arr)\n",
    "print(\"Menor=\",np.argmin(arr,axis=0)) # Os menores valores estão todos na linha 0\n"
   ]
  },
  {
   "cell_type": "code",
   "execution_count": 88,
   "id": "5f69bffe-1aae-49a4-a6e9-36c8033ef153",
   "metadata": {},
   "outputs": [
    {
     "name": "stdout",
     "output_type": "stream",
     "text": [
      "[ nan   1.   2.   4.  -5. -inf  -6.  inf]\n",
      "Teste isnan= [ True False False False False False False False]\n",
      "Teste isfinite= [False  True  True  True  True False  True False]\n"
     ]
    },
    {
     "name": "stderr",
     "output_type": "stream",
     "text": [
      "C:\\Users\\Xtrategie\\AppData\\Local\\Temp\\ipykernel_7884\\1383408342.py:3: RuntimeWarning: divide by zero encountered in log\n",
      "  arr=np.array([np.nan,1,2,4,-5,np.log(0),-6,np.inf])\n"
     ]
    }
   ],
   "source": [
    "########################  Funções de teste \n",
    "\n",
    "arr=np.array([np.nan,1,2,4,-5,np.log(0),-6,np.inf])\n",
    "\n",
    "print(arr)\n",
    "print(\"Teste isnan=\",np.isnan(arr))\n",
    "print(\"Teste isfinite=\",np.isfinite(arr))\n",
    "\n",
    "\n"
   ]
  },
  {
   "cell_type": "code",
   "execution_count": 40,
   "id": "36433683-2c21-4969-b949-bb0bf8860380",
   "metadata": {},
   "outputs": [
    {
     "name": "stdout",
     "output_type": "stream",
     "text": [
      "[1 1 1 2 3 4 5 5 6 7]\n",
      "Unique= [1 2 3 4 5 6 7]\n",
      "Arr1= [1 2 3 4]\n",
      "Arr2= [3 4 5 6]\n",
      "Uniao= [1 2 3 4 5 6]\n",
      "Interseção= [3 4]\n",
      "dif(arr1-arr2) [1 2]\n",
      "elementos exclusivos A+B-(AB) [1 2 5 6]\n"
     ]
    }
   ],
   "source": [
    "######################## Operações de conjunto \n",
    "\n",
    "arr = np.array([1, 1, 1, 2, 3, 4, 5, 5, 6, 7])\n",
    "print(arr)\n",
    "print(\"Unique=\",np.unique(arr))      # equivalente a unique do r\n",
    "\n",
    "\n",
    "arr1 = np.array([1, 2, 3, 4])\n",
    "arr2 = np.array([3, 4, 5, 6])\n",
    "\n",
    "print(\"Arr1=\",arr1)\n",
    "print(\"Arr2=\",arr2)\n",
    "print(\"Uniao=\",np.union1d(arr1, arr2))\n",
    "print(\"Interseção=\",np.intersect1d(arr1, arr2, assume_unique=True))\n",
    "print(\"dif(arr1-arr2)\",np.setdiff1d(arr1, arr2, assume_unique=True))\n",
    "print(\"elementos exclusivos A+B-(AB)\",np.setxor1d(arr1, arr2, assume_unique=True))                               # encontrar apenas os valores que NÃO estão presentes em AMBOS os conjuntos\n"
   ]
  },
  {
   "cell_type": "code",
   "execution_count": 62,
   "id": "ffaaf1a0-aa82-4f97-9ed9-9e303d50f1d5",
   "metadata": {},
   "outputs": [
    {
     "name": "stdout",
     "output_type": "stream",
     "text": [
      "SEN(30º)= 0.5\n",
      "COS(45º)= 0.71\n",
      "TG(45º)= 1.0\n",
      "1º para radiano= [0.0175]\n",
      "1 rad para º= [57.2958]\n",
      "arc sin= [1.5708]\n",
      "arc sin (pi/2)= 2.3012989023072947\n",
      "hipotenusa (2,2)= 2.8284271247461903\n"
     ]
    }
   ],
   "source": [
    "########################################### Operações Trigonométricas\n",
    "\n",
    "print(\"SEN(30º)=\",np.round(np.sin(np.pi/6),2))  # Seno de 30º\n",
    "print(\"COS(45º)=\",np.round(np.cos(np.pi/4),2))  # Coseno de 45º\n",
    "print(\"TG(45º)=\",np.round(np.tan(np.pi/4),2))  # Tangente de 45º\n",
    "\n",
    "print(\"1º para radiano=\",np.deg2rad([1]))\n",
    "print(\"1 rad para º=\",np.rad2deg([1]))\n",
    "\n",
    "print(\"arc sin=\",np.arcsin([1]))\n",
    "print(\"arc sin (pi/2)=\",np.sinh(np.pi/2))\n",
    "\n",
    "print(\"hipotenusa (2,2)=\", np.hypot(2, 2))"
   ]
  },
  {
   "cell_type": "code",
   "execution_count": null,
   "id": "e6730417-910e-4087-a8b6-cf253b0b5d97",
   "metadata": {},
   "outputs": [],
   "source": [
    "x = np.arcsin(1.0)\n",
    "x = np.arcsin(arr)\n",
    "\n",
    "base = 3\n",
    "perp = 4\n",
    "\n",
    "\n"
   ]
  },
  {
   "cell_type": "code",
   "execution_count": null,
   "id": "8bbf4dab-1752-4f39-af44-7309bda411d9",
   "metadata": {},
   "outputs": [],
   "source": []
  }
 ],
 "metadata": {
  "kernelspec": {
   "display_name": "Python 3 (ipykernel)",
   "language": "python",
   "name": "python3"
  },
  "language_info": {
   "codemirror_mode": {
    "name": "ipython",
    "version": 3
   },
   "file_extension": ".py",
   "mimetype": "text/x-python",
   "name": "python",
   "nbconvert_exporter": "python",
   "pygments_lexer": "ipython3",
   "version": "3.11.7"
  }
 },
 "nbformat": 4,
 "nbformat_minor": 5
}
