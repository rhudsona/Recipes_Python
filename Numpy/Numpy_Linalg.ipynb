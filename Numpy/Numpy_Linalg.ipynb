{
 "cells": [
  {
   "cell_type": "code",
   "execution_count": 3,
   "id": "5f4fa254-983e-4609-9f8d-53d3a39709d2",
   "metadata": {},
   "outputs": [],
   "source": [
    "import numpy as np\n",
    "import pandas as pd\n",
    "import matplotlib.pyplot as plt\n",
    "import statsmodels as sm\n",
    "pd.options.display.max_columns=20\n",
    "pd.options.display.max_rows=20\n",
    "pd.options.display.max_colwidth=80\n",
    "np.set_printoptions(precision=4,suppress=True)"
   ]
  },
  {
   "cell_type": "code",
   "execution_count": null,
   "id": "c6ea3fde-4dfc-4494-a6a2-bfce9f750853",
   "metadata": {},
   "outputs": [],
   "source": [
    "############################################## Principais funções de algebra linear no Numpy\n",
    "\n",
    "#diag - retorna um vetor da diagonal de uma matriz quadrada ou a partir de um vetor constroi um matriz quadrada com zeros fora da diagonal\n",
    "#dot - multiplicação de matrizes\n",
    "#trace - Calcula a soma dos elementos na diagonal\n",
    "#det - calcula o determinante de uma matriz\n",
    "#eig - calcula os autovalores e autovetores de uma matriz quadrada\n",
    "#inv - calcula a matriz inversa\n",
    "#pinv - calcula a pseudo inversa de morro-penrose de uma matriz\n",
    "#qr - Calcula a decomposicao QR\n",
    "#svd - Calcula a Decomposição de valor singular\n",
    "#solve - Resolve o sistema linear Ax=b para x, onde A é uma matriz quadrada\n",
    "#lstsq - Calcula a solução de minimos quadrados para Ax=b"
   ]
  },
  {
   "cell_type": "code",
   "execution_count": 4,
   "id": "67a81e75-7e9a-4a99-801f-ccc187f52052",
   "metadata": {},
   "outputs": [],
   "source": [
    "arr=np.arange(15).reshape((3,5))\n",
    "print(arr)\n",
    "np.add.accumulate(arr,axis=1)\n"
   ]
  },
  {
   "cell_type": "code",
   "execution_count": 5,
   "id": "41b70777-d5b0-460b-82de-02e67ad69969",
   "metadata": {},
   "outputs": [
    {
     "name": "stdout",
     "output_type": "stream",
     "text": [
      "[[ 0  1  2  3  4]\n",
      " [ 5  6  7  8  9]\n",
      " [10 11 12 13 14]]\n"
     ]
    }
   ],
   "source": [
    "print(arr)"
   ]
  },
  {
   "cell_type": "code",
   "execution_count": 6,
   "id": "551bf230-1a9c-41bd-9088-fa0ae3ddc896",
   "metadata": {},
   "outputs": [
    {
     "data": {
      "text/plain": [
       "array([[ 0,  1,  3,  6, 10],\n",
       "       [ 5, 11, 18, 26, 35],\n",
       "       [10, 21, 33, 46, 60]])"
      ]
     },
     "execution_count": 6,
     "metadata": {},
     "output_type": "execute_result"
    }
   ],
   "source": [
    "np.add.accumulate(arr,axis=1)"
   ]
  }
 ],
 "metadata": {
  "kernelspec": {
   "display_name": "Python 3 (ipykernel)",
   "language": "python",
   "name": "python3"
  },
  "language_info": {
   "codemirror_mode": {
    "name": "ipython",
    "version": 3
   },
   "file_extension": ".py",
   "mimetype": "text/x-python",
   "name": "python",
   "nbconvert_exporter": "python",
   "pygments_lexer": "ipython3",
   "version": "3.11.7"
  }
 },
 "nbformat": 4,
 "nbformat_minor": 5
}
